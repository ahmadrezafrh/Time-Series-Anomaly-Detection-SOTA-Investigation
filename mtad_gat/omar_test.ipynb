{
 "cells": [
  {
   "cell_type": "code",
   "execution_count": 22,
   "metadata": {},
   "outputs": [],
   "source": [
    "from torch.backends import cudnn\n",
    "import pandas as pd\n",
    "import numpy as np\n",
    "\n",
    "from our_modules.preprocessing import load_data\n",
    "from our_modules.postprocessing import evaluation\n",
    "from our_modules.utils import ignore_warnings, check_path\n",
    "from utils import get_data_fp1\n",
    "\n",
    "ROOTDIR_DATASET_NORMAL = './our_data/normal'\n",
    "ROOTDIR_DATASET_ANOMALY = './our_data/collisions'\n",
    "cudnn.benchmark = True\n",
    "ignore_warnings()"
   ]
  },
  {
   "cell_type": "code",
   "execution_count": 48,
   "metadata": {},
   "outputs": [],
   "source": [
    "test_pred_df = pd.read_pickle(f\"output/Kuka_v1/1-1/22072023_161220/test_output.pkl\")"
   ]
  },
  {
   "cell_type": "code",
   "execution_count": 49,
   "metadata": {},
   "outputs": [],
   "source": [
    "test_anomaly_scores = test_pred_df['A_Score_Global'].values"
   ]
  },
  {
   "cell_type": "code",
   "execution_count": 50,
   "metadata": {},
   "outputs": [
    {
     "name": "stdout",
     "output_type": "stream",
     "text": [
      "Loading data.\n",
      "Found 31 different actions.\n",
      "Loading data done.\n",
      "\n",
      "Train data shape: (95815, 51)\n",
      "Loading data.\n",
      "Found 31 different actions.\n",
      "Loading data done.\n",
      "\n",
      "Test data shape: (34275, 51)\n",
      "Test Labels shape: (34275,)\n"
     ]
    }
   ],
   "source": [
    "(x_train, _), (x_test, y_test) = get_data_fp1(ROOTDIR_DATASET_NORMAL, ROOTDIR_DATASET_ANOMALY, 'checkpoints', freq=10)"
   ]
  },
  {
   "cell_type": "code",
   "execution_count": 51,
   "metadata": {},
   "outputs": [],
   "source": [
    "def average_scores_for_eval(x_test, win_size):\n",
    "    averaged_scores = []\n",
    "    for i in range(x_test.shape[0] - win_size):\n",
    "        averaged_scores.append(x_test[i: i + win_size].mean())\n",
    "    return np.array(averaged_scores)\n",
    "\n",
    "averaged_scores = average_scores_for_eval(test_anomaly_scores, 40)"
   ]
  },
  {
   "cell_type": "code",
   "execution_count": 52,
   "metadata": {},
   "outputs": [
    {
     "data": {
      "text/plain": [
       "(34235,)"
      ]
     },
     "execution_count": 52,
     "metadata": {},
     "output_type": "execute_result"
    }
   ],
   "source": [
    "test_anomaly_scores.shape"
   ]
  },
  {
   "cell_type": "code",
   "execution_count": 53,
   "metadata": {},
   "outputs": [
    {
     "data": {
      "text/plain": [
       "(34195,)"
      ]
     },
     "execution_count": 53,
     "metadata": {},
     "output_type": "execute_result"
    }
   ],
   "source": [
    "averaged_scores.shape"
   ]
  },
  {
   "cell_type": "code",
   "execution_count": 54,
   "metadata": {},
   "outputs": [
    {
     "name": "stdout",
     "output_type": "stream",
     "text": [
      "anomaly in 129 - 159 - True\n",
      "anomaly in 270 - 288 - True\n",
      "anomaly in 1245 - 1284 - True\n",
      "anomaly in 1398 - 1436 - True\n",
      "anomaly in 1657 - 1696 - True\n",
      "anomaly in 1798 - 1823 - False\n",
      "anomaly in 1938 - 1959 - True\n",
      "anomaly in 2611 - 2627 - True\n",
      "anomaly in 3371 - 3397 - True\n",
      "anomaly in 3480 - 3502 - True\n",
      "anomaly in 3562 - 3588 - True\n",
      "anomaly in 7053 - 7075 - True\n",
      "anomaly in 7211 - 7236 - False\n",
      "anomaly in 7313 - 7339 - True\n",
      "anomaly in 7727 - 7739 - True\n",
      "anomaly in 8154 - 8191 - False\n",
      "anomaly in 8651 - 8671 - True\n",
      "anomaly in 8781 - 8822 - True\n",
      "anomaly in 9258 - 9298 - True\n",
      "anomaly in 10383 - 10422 - True\n",
      "anomaly in 10585 - 10620 - True\n",
      "anomaly in 11819 - 11861 - True\n",
      "anomaly in 12039 - 12097 - True\n",
      "anomaly in 12617 - 12641 - True\n",
      "anomaly in 13774 - 13819 - True\n",
      "anomaly in 15400 - 15425 - False\n",
      "anomaly in 15531 - 15574 - True\n",
      "anomaly in 16509 - 16553 - True\n",
      "anomaly in 17184 - 17204 - True\n",
      "anomaly in 18448 - 18490 - True\n",
      "anomaly in 18942 - 18982 - True\n",
      "anomaly in 19098 - 19130 - True\n",
      "anomaly in 25100 - 25128 - True\n",
      "anomaly in 25680 - 25700 - False\n",
      "anomaly in 25760 - 25766 - False\n",
      "anomaly in 26906 - 26944 - True\n",
      "anomaly in 27688 - 27711 - True\n",
      "anomaly in 28459 - 28482 - True\n",
      "anomaly in 29058 - 29099 - True\n",
      "anomaly in 29953 - 29992 - True\n",
      "anomaly in 30139 - 30181 - True\n",
      "anomaly in 31232 - 31273 - True\n",
      "anomaly in 31333 - 31360 - True\n",
      "anomaly in 31459 - 31500 - True\n",
      "anomaly in 31904 - 31945 - True\n",
      "anomaly in 32152 - 32193 - True\n",
      "anomaly in 32394 - 32420 - False\n",
      "anomaly in 32505 - 32530 - True\n",
      "anomaly in 32590 - 32590 - False\n",
      "anomaly in 32651 - 32690 - True\n",
      "anomaly in 32798 - 32837 - True\n",
      "anomaly in 32944 - 32984 - True\n",
      "Accuracy : 0.9541, Precision : 0.6046, Recall : 0.9133, F-score : 0.7275, specificity : 0.9571 \n"
     ]
    }
   ],
   "source": [
    "evaluation(test_anomaly_scores, y_test, 1.4, win=60)"
   ]
  },
  {
   "cell_type": "code",
   "execution_count": 55,
   "metadata": {},
   "outputs": [
    {
     "name": "stdout",
     "output_type": "stream",
     "text": [
      "anomaly in 129 - 159 - True\n",
      "anomaly in 270 - 288 - True\n",
      "anomaly in 1245 - 1284 - True\n",
      "anomaly in 1398 - 1436 - True\n",
      "anomaly in 1657 - 1696 - True\n",
      "anomaly in 1798 - 1823 - True\n",
      "anomaly in 1938 - 1959 - True\n",
      "anomaly in 2611 - 2627 - True\n",
      "anomaly in 3371 - 3397 - True\n",
      "anomaly in 3480 - 3502 - True\n",
      "anomaly in 3562 - 3588 - True\n",
      "anomaly in 7053 - 7075 - True\n",
      "anomaly in 7211 - 7236 - True\n",
      "anomaly in 7313 - 7339 - True\n",
      "anomaly in 7727 - 7739 - True\n",
      "anomaly in 8154 - 8191 - True\n",
      "anomaly in 8651 - 8671 - False\n",
      "anomaly in 8781 - 8822 - True\n",
      "anomaly in 9258 - 9298 - True\n",
      "anomaly in 10383 - 10422 - True\n",
      "anomaly in 10585 - 10620 - True\n",
      "anomaly in 11819 - 11861 - True\n",
      "anomaly in 12039 - 12097 - True\n",
      "anomaly in 12617 - 12641 - True\n",
      "anomaly in 13774 - 13819 - True\n",
      "anomaly in 15400 - 15425 - False\n",
      "anomaly in 15531 - 15574 - True\n",
      "anomaly in 16509 - 16553 - True\n",
      "anomaly in 17184 - 17204 - True\n",
      "anomaly in 18448 - 18490 - True\n",
      "anomaly in 18942 - 18982 - True\n",
      "anomaly in 19098 - 19130 - True\n",
      "anomaly in 25100 - 25128 - False\n",
      "anomaly in 25680 - 25700 - False\n",
      "anomaly in 25760 - 25766 - False\n",
      "anomaly in 26906 - 26944 - True\n",
      "anomaly in 27688 - 27711 - True\n",
      "anomaly in 28459 - 28482 - True\n",
      "anomaly in 29058 - 29099 - True\n",
      "anomaly in 29953 - 29992 - True\n",
      "anomaly in 30139 - 30181 - True\n",
      "anomaly in 31232 - 31273 - True\n",
      "anomaly in 31333 - 31360 - True\n",
      "anomaly in 31459 - 31500 - True\n",
      "anomaly in 31904 - 31945 - True\n",
      "anomaly in 32152 - 32193 - True\n",
      "anomaly in 32394 - 32420 - True\n",
      "anomaly in 32505 - 32530 - True\n",
      "anomaly in 32590 - 32590 - True\n",
      "anomaly in 32651 - 32690 - True\n",
      "anomaly in 32798 - 32837 - True\n",
      "anomaly in 32944 - 32984 - True\n",
      "Accuracy : 0.8755, Precision : 0.4525, Recall : 0.9681, F-score : 0.6167, specificity : 0.8649 \n"
     ]
    }
   ],
   "source": [
    "evaluation(averaged_scores, y_test, 1, win=60)"
   ]
  },
  {
   "cell_type": "code",
   "execution_count": 4,
   "metadata": {},
   "outputs": [],
   "source": [
    "select_signals = None\n",
    "rand_size = None\n",
    "select_action = None\n",
    "freq = 10"
   ]
  },
  {
   "cell_type": "markdown",
   "metadata": {},
   "source": [
    "\"TP\": 1516.0,\n",
    "\"TN\": 30252.0,\n",
    "\"FP\": 2187.0,\n",
    "\"FN\": 220.0,"
   ]
  },
  {
   "cell_type": "code",
   "execution_count": 65,
   "metadata": {},
   "outputs": [
    {
     "data": {
      "text/plain": [
       "0.9295683979517191"
      ]
     },
     "execution_count": 65,
     "metadata": {},
     "output_type": "execute_result"
    }
   ],
   "source": [
    "TP = 1516\n",
    "TN = 30252\n",
    "FP = 2187\n",
    "FN = 220\n",
    "(TP + TN) / (TP + TN + FP + FN)"
   ]
  },
  {
   "cell_type": "code",
   "execution_count": null,
   "metadata": {},
   "outputs": [],
   "source": []
  }
 ],
 "metadata": {
  "kernelspec": {
   "display_name": "mlinapp",
   "language": "python",
   "name": "python3"
  },
  "language_info": {
   "codemirror_mode": {
    "name": "ipython",
    "version": 3
   },
   "file_extension": ".py",
   "mimetype": "text/x-python",
   "name": "python",
   "nbconvert_exporter": "python",
   "pygments_lexer": "ipython3",
   "version": "3.10.9"
  },
  "orig_nbformat": 4
 },
 "nbformat": 4,
 "nbformat_minor": 2
}
